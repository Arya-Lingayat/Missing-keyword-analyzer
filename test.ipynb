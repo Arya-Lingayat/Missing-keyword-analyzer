{
 "cells": [
  {
   "cell_type": "code",
   "execution_count": 51,
   "id": "5543cdaf",
   "metadata": {},
   "outputs": [],
   "source": [
    "from dotenv import load_dotenv\n",
    "import gradio as gr \n",
    "import os\n",
    "import google.generativeai as genai\n",
    " "
   ]
  },
  {
   "cell_type": "code",
   "execution_count": 52,
   "id": "040358c4",
   "metadata": {},
   "outputs": [],
   "source": [
    "api_key = os.getenv(\"GEMINI_API_KEY\")"
   ]
  },
  {
   "cell_type": "code",
   "execution_count": 62,
   "id": "280b8242",
   "metadata": {},
   "outputs": [],
   "source": [
    "genai.configure(api_key=api_key)"
   ]
  },
  {
   "cell_type": "code",
   "execution_count": 86,
   "id": "0544d79e",
   "metadata": {},
   "outputs": [],
   "source": [
    "system_message=\"\"\"You are an intelligent AI assistant  that promptly follows the instructions given by the user\n",
    "\"\"\""
   ]
  },
  {
   "cell_type": "markdown",
   "id": "49547a28",
   "metadata": {},
   "source": [
    "## Function for detecting missing keywords"
   ]
  },
  {
   "cell_type": "code",
   "execution_count": 87,
   "id": "4531143f",
   "metadata": {},
   "outputs": [],
   "source": [
    "import re\n",
    "\n",
    "def find_missing_keywords(keywords_file_path: str, homework_file_path: str) -> list[str]:\n",
    "    \"\"\"\n",
    "    Checks which keywords or phrases are missing from the homework file.\n",
    "    Supports multi-word keyword phrases.\n",
    "    \n",
    "    Args:\n",
    "        keywords_file_path (str): Path to the file containing keywords (one per line or comma-separated).\n",
    "        homework_file_path (str): Path to the student's homework file.\n",
    "    \n",
    "    Returns:\n",
    "        list[str]: A list of keywords/phrases that are not found in the homework.\n",
    "    \"\"\"\n",
    "    \n",
    "    with open(keywords_file_path, 'r', encoding='utf-8') as f:\n",
    "        raw_keywords = f.read()\n",
    "    keywords = [kw.strip().lower() for kw in re.split(r'[\\n,]+', raw_keywords) if kw.strip()]\n",
    "    \n",
    "    with open(homework_file_path, 'r', encoding='utf-8') as f:\n",
    "        homework_text = f.read().lower()\n",
    "    # Removing punctuation for more robust phrase matching\n",
    "    homework_text_clean = re.sub(r'[^\\w\\s]', '', homework_text)\n",
    "    \n",
    "    # Checking for presence of each keyword/phrase\n",
    "    missing_keywords = []\n",
    "    for keyword in keywords:\n",
    "        kw_clean = re.sub(r'[^\\w\\s]', '', keyword.lower())\n",
    "        if kw_clean not in homework_text_clean:\n",
    "            missing_keywords.append(keyword)\n",
    "    \n",
    "    return missing_keywords\n"
   ]
  },
  {
   "cell_type": "code",
   "execution_count": 88,
   "id": "062409cd",
   "metadata": {},
   "outputs": [
    {
     "name": "stdout",
     "output_type": "stream",
     "text": [
      "['artificial intelligence', 'machine learning', 'healthcare', 'ethics', 'solar panels', 'quantum computing', 'cryptography', 'data analysis', 'ai-powered applications', 'energy efficiency', 'autonomous vehicles', 'nlp', 'ethical guidelines', 'medical image analysis', 'quantum bits']\n"
     ]
    }
   ],
   "source": [
    "ans=find_missing_keywords(\"C:/Users/hp/Desktop/AI-Internship/Task-1/keywords.txt\",\"C:/Users/hp/Desktop/AI-Internship/Task-1/homework2.txt\")\n",
    "print(ans)"
   ]
  },
  {
   "cell_type": "code",
   "execution_count": 89,
   "id": "1f167739",
   "metadata": {},
   "outputs": [],
   "source": [
    "from google.generativeai.types import FunctionDeclaration, Tool"
   ]
  },
  {
   "cell_type": "code",
   "execution_count": 90,
   "id": "c46e55d4",
   "metadata": {},
   "outputs": [],
   "source": [
    "def create_keyword_checking_tool():\n",
    "    return Tool(\n",
    "        function_declarations=[\n",
    "            FunctionDeclaration(\n",
    "                name=find_missing_keywords.__name__,\n",
    "                description=\"Checks which keywords or phrases from a given file are missing in the student's homework file.\",\n",
    "                parameters={\n",
    "                    \"type\": \"object\",\n",
    "                    \"properties\": {\n",
    "                        \"keywords_file_path\": {\n",
    "                            \"type\": \"string\",\n",
    "                            \"description\": \"Path to the file containing the list of required keywords or phrases (one per line or comma-separated).\"\n",
    "                        },\n",
    "                        \"homework_file_path\": {\n",
    "                            \"type\": \"string\",\n",
    "                            \"description\": \"Path to the student's homework file to be checked.\"\n",
    "                        }\n",
    "                    },\n",
    "                    \"required\": [\"keywords_file_path\", \"homework_file_path\"]\n",
    "                }\n",
    "            )\n",
    "        ]\n",
    "    )"
   ]
  },
  {
   "cell_type": "code",
   "execution_count": 91,
   "id": "c2d8e63d",
   "metadata": {},
   "outputs": [],
   "source": [
    "model = genai.GenerativeModel(\n",
    "    model_name=\"gemini-2.0-flash\",\n",
    "    tools=[create_keyword_checking_tool()],\n",
    "    system_instruction=system_message\n",
    ")\n"
   ]
  },
  {
   "cell_type": "code",
   "execution_count": 94,
   "id": "781366bc",
   "metadata": {},
   "outputs": [],
   "source": [
    "import gradio as gr\n",
    "import google.generativeai as genai\n",
    "import json\n",
    "\n",
    " \n",
    "# -- Gradio Processing Function --\n",
    "def generate_feedback(keywords_file, homework_file):\n",
    "    if not keywords_file or not homework_file:\n",
    "        yield \"Please upload both the keywords file and the homework file.\"\n",
    "        return\n",
    "\n",
    "    prompt = (\n",
    "        f\"Use the tool to find missing keywords from the student's homework.\\n\"\n",
    "        f\"keywords_file_path: {keywords_file.name}\\n\"\n",
    "        f\"homework_file_path: {homework_file.name}\\n\"\n",
    "        \n",
    "    )\n",
    "\n",
    "    response = model.generate_content(\n",
    "        contents = prompt,\n",
    "    )\n",
    "        # Step 2: Extract function call from response\n",
    "    parts = response.candidates[0].content.parts\n",
    "    function_call = None\n",
    "    for part in parts:\n",
    "        if hasattr(part, \"function_call\"):\n",
    "            function_call = part.function_call\n",
    "            break\n",
    "\n",
    "    if not function_call:\n",
    "        yield \"❌ No function call was found in the response.\"\n",
    "        return\n",
    "\n",
    "     \n",
    "    if isinstance(function_call.args, str):\n",
    "        args =json.loads(function_call.ars)\n",
    "    else:\n",
    "        args = function_call.args\n",
    "\n",
    "    homework_file_path = args.get(\"homework_file_path\")\n",
    "    keywords_file_path = args.get(\"keywords_file_path\")\n",
    "\n",
    "    # Step 4: Manually call the tool\n",
    "    missing_keywords = find_missing_keywords(keywords_file_path, homework_file_path)\n",
    "\n",
    "   \n",
    "    summary_prompt = (\n",
    "        f\"The following keywords are missing from the student's homework:\\n\"\n",
    "        f\"{', '.join(missing_keywords)}\\n\\n\"\n",
    "         \"Provide a clear summary of the missing keywords and put them in groups they belong to.Add a new line for each group.Don't provide additional information or advice\"\n",
    "    )\n",
    "\n",
    "    summary_response = model.generate_content(\n",
    "        contents=[{\"role\": \"user\", \"parts\": [{\"text\": summary_prompt}]}],\n",
    "    )\n",
    "\n",
    "    # Step 7: Stream Gemini's explanation\n",
    "    # output = summary_response.content[0].content.parts[0].text\n",
    "    output = summary_response.candidates[0].content.parts[0].text\n",
    "\n",
    "   \n",
    "    yield output"
   ]
  },
  {
   "cell_type": "code",
   "execution_count": 97,
   "id": "3fe3d26d",
   "metadata": {},
   "outputs": [
    {
     "name": "stdout",
     "output_type": "stream",
     "text": [
      "* Running on local URL:  http://127.0.0.1:7880\n",
      "\n",
      "Could not create share link. Missing file: C:\\Users\\hp\\.cache\\huggingface\\gradio\\frpc\\frpc_windows_amd64_v0.3. \n",
      "\n",
      "Please check your internet connection. This can happen if your antivirus software blocks the download of this file. You can install manually by following these steps: \n",
      "\n",
      "1. Download this file: https://cdn-media.huggingface.co/frpc-gradio-0.3/frpc_windows_amd64.exe\n",
      "2. Rename the downloaded file to: frpc_windows_amd64_v0.3\n",
      "3. Move the file to this location: C:\\Users\\hp\\.cache\\huggingface\\gradio\\frpc\n"
     ]
    },
    {
     "name": "stderr",
     "output_type": "stream",
     "text": [
      "\n"
     ]
    },
    {
     "data": {
      "text/html": [
       "<div><iframe src=\"http://127.0.0.1:7880/\" width=\"100%\" height=\"500\" allow=\"autoplay; camera; microphone; clipboard-read; clipboard-write;\" frameborder=\"0\" allowfullscreen></iframe></div>"
      ],
      "text/plain": [
       "<IPython.core.display.HTML object>"
      ]
     },
     "metadata": {},
     "output_type": "display_data"
    },
    {
     "data": {
      "text/plain": []
     },
     "execution_count": 97,
     "metadata": {},
     "output_type": "execute_result"
    },
    {
     "name": "stdout",
     "output_type": "stream",
     "text": [
      "\n"
     ]
    }
   ],
   "source": [
    "with gr.Blocks() as demo:\n",
    "    gr.Markdown(\"## 🧠 AI-Powered Keyword Checker\")\n",
    "\n",
    "    with gr.Row():\n",
    "        keywords_file = gr.File(label=\"Upload Keywords File (.txt)\", file_types=[\".txt\"])\n",
    "        homework_file = gr.File(label=\"Upload Homework File (.txt)\", file_types=[\".txt\"])\n",
    "\n",
    "    submit_btn = gr.Button(\"Check Missing Keywords\")\n",
    "    output = gr.Textbox(label=\"AI feedback\",interactive=True)\n",
    "\n",
    "    submit_btn.click(\n",
    "        fn=generate_feedback,\n",
    "        inputs=[keywords_file, homework_file],\n",
    "        outputs=output,\n",
    "    )\n",
    "\n",
    "demo.launch(share=True)"
   ]
  },
  {
   "cell_type": "code",
   "execution_count": null,
   "id": "ee4010e6",
   "metadata": {},
   "outputs": [],
   "source": []
  }
 ],
 "metadata": {
  "kernelspec": {
   "display_name": "base",
   "language": "python",
   "name": "python3"
  },
  "language_info": {
   "codemirror_mode": {
    "name": "ipython",
    "version": 3
   },
   "file_extension": ".py",
   "mimetype": "text/x-python",
   "name": "python",
   "nbconvert_exporter": "python",
   "pygments_lexer": "ipython3",
   "version": "3.12.3"
  }
 },
 "nbformat": 4,
 "nbformat_minor": 5
}
